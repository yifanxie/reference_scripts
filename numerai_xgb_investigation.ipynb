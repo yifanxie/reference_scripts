{
 "cells": [
  {
   "cell_type": "code",
   "execution_count": 1,
   "metadata": {
    "collapsed": false,
    "deletable": true,
    "editable": true
   },
   "outputs": [],
   "source": [
    "%matplotlib inline\n",
    "import sys\n",
    "sys.path.append(\"/media/yifan/Windows/Users/xie/Playground/Numerai/\")\n",
    "\n",
    "import numpy as np\n",
    "import pandas as pd\n",
    "import matplotlib.pyplot as plt\n",
    "import seaborn as sns\n",
    "import time\n",
    "import feather\n",
    "import gc\n",
    "import paratext\n",
    "import xgboost as xgb\n",
    "from IPython.display import display\n",
    "\n",
    "from sklearn.linear_model import LogisticRegression\n",
    "from sklearn.ensemble import RandomForestClassifier\n",
    "from sklearn.naive_bayes import BernoulliNB\n",
    "from sklearn.cross_validation import StratifiedKFold\n",
    "from sklearn.metrics import log_loss\n",
    "from sklearn.feature_selection import SelectKBest\n",
    "from sklearn.feature_selection import SelectPercentile\n",
    "from sklearn.feature_selection import chi2\n",
    "\n",
    "\n",
    "\n",
    "\n",
    "from bayes_opt import BayesianOptimization\n",
    "\n",
    "\n",
    "import warnings\n",
    "warnings.filterwarnings(\"ignore\",category=DeprecationWarning)\n",
    "pd.set_option('display.max_seq_items', 200)\n",
    "pd.set_option('max_rows', 200)\n",
    "pd.set_option('display.float_format', lambda x: '%.3f' % x)"
   ]
  },
  {
   "cell_type": "code",
   "execution_count": 3,
   "metadata": {
    "collapsed": false,
    "deletable": true,
    "editable": true
   },
   "outputs": [],
   "source": [
    "train=pd.read_csv('./data/numerai_training_data.csv')\n",
    "test=pd.read_csv('./data/numerai_tournament_data.csv')\n",
    "submit=pd.read_csv('./data/example_predictions.csv')"
   ]
  },
  {
   "cell_type": "code",
   "execution_count": 41,
   "metadata": {
    "collapsed": true,
    "deletable": true,
    "editable": true
   },
   "outputs": [],
   "source": [
    "train_target=train['target'].as_matrix()\n",
    "\n",
    "train_features=train.drop(['target'], axis=1).as_matrix()\n",
    "test_features=test.drop(['t_id'], axis=1).as_matrix()\n",
    "train_features=np.sqrt(train_features+3/8)\n",
    "test_features=np.sqrt(test_features+3/8)"
   ]
  },
  {
   "cell_type": "code",
   "execution_count": 4,
   "metadata": {
    "collapsed": false,
    "deletable": true,
    "editable": true
   },
   "outputs": [],
   "source": [
    "def score(clf, train_data, y, random_state = 0, print_score=True):\n",
    "    kf = StratifiedKFold(y, n_folds=5, shuffle=True, random_state=random_state)\n",
    "    pred = np.zeros((y.shape[0],2))\n",
    "    counter=0\n",
    "    errlist=[]\n",
    "    for itrain, itest in kf:\n",
    "        counter+=1\n",
    "        Xtr, Xte = train_data[itrain, :], train_data[itest, :]\n",
    "        ytr, yte = y[itrain], y[itest]\n",
    "        clf.fit(Xtr, ytr)\n",
    "        pred[itest,:] = clf.predict_proba(Xte)\n",
    "        err=log_loss(yte, pred[itest,:])\n",
    "        if print_score:\n",
    "            print(\"score {} is {:.5f}\".format(counter, err, end=' '))\n",
    "        errlist.append(err)\n",
    "\n",
    "    if print_score:\n",
    "        print(\"mean score is {:.5f}\".format(np.mean(errlist)))\n",
    "    return log_loss(y, pred), pred"
   ]
  },
  {
   "cell_type": "code",
   "execution_count": 76,
   "metadata": {
    "collapsed": true,
    "deletable": true,
    "editable": true
   },
   "outputs": [],
   "source": [
    "def xgb_model(labels, traindata, testdata, booster=\"gbtree\", tree_method='exact', num_rounds=50):\n",
    "    params = {}\n",
    "    if booster==\"gbtree\":\n",
    "        params[\"booster\"]=\"gbtree\"\n",
    "        params[\"eta\"] = 0.1\n",
    "        params[\"subsample\"] = 1\n",
    "        params[\"colsample_bytree\"] = 0.5\n",
    "        params[\"max_depth\"] = 2\n",
    "        params[\"tree_method\"]=tree_method\n",
    "    else: \n",
    "        params[\"booster\"]=\"gblinear\"\n",
    "        params[\"eta\"] = 0.1\n",
    "        params[\"lambda\"]=1\n",
    "        params[\"lambda_bias\"]=1\n",
    "    \n",
    "    params[\"objective\"] = \"multi:softprob\"\n",
    "    params[\"num_class\"]=2\n",
    "    params[\"nthread\"]=8\n",
    "    \n",
    "#     params[\"gamma\"]=0.1 #0.277\n",
    "#     params[\"silent\"] = 1\n",
    "    plst = list(params.items())\n",
    "    xgbtrain = xgb.DMatrix(traindata, label=labels)\n",
    "    xgbtest = xgb.DMatrix(testdata)\n",
    "\n",
    "#     print(\"fitting model\")\n",
    "    model = xgb.train(plst, xgbtrain, num_rounds)\n",
    "    \n",
    "#     print(\"making prediction\")\n",
    "    preds = model.predict(xgbtest)\n",
    "    \n",
    "    return preds"
   ]
  },
  {
   "cell_type": "code",
   "execution_count": 98,
   "metadata": {
    "collapsed": false,
    "deletable": true,
    "editable": true
   },
   "outputs": [],
   "source": [
    "def xgb_score(train_data, y, random_state = 0, print_score=True):\n",
    "    kf = StratifiedKFold(y, n_folds=5, shuffle=True, random_state=random_state)\n",
    "    pred = np.zeros((y.shape[0],2))\n",
    "    counter=0\n",
    "    errlist=[]\n",
    "    for itrain, itest in kf:\n",
    "        counter+=1\n",
    "        Xtr, Xte = train_data[itrain, :], train_data[itest, :]\n",
    "        ytr, yte = y[itrain], y[itest]\n",
    "\n",
    "\n",
    "#         pred[itest,:]=xgb_model(ytr, Xtr, Xte, booster=\"gbtree\")\n",
    "#         pred[itest,:]=xgb_model(ytr, Xtr, Xte, booster=\"gblinear\", num_rounds=200)\n",
    "        pred1=xgb_model(ytr, Xtr, Xte, booster=\"gbtree\")\n",
    "#         pred2=xgb_model(ytr, Xtr, Xte, booster=\"gblinear\", num_rounds=200)\n",
    "        \n",
    "        pred2=LogisticRegression(C=0.02,solver='lbfgs').fit(Xtr, ytr).predict_proba(Xte)\n",
    "        \n",
    "        pred[itest,:]=(pred1*0.5+pred2*0.5)\n",
    "\n",
    "#         clf.fit(Xtr, ytr)\n",
    "#         pred[itest,:] = clf.predict_proba(Xte)\n",
    "\n",
    "        err=log_loss(yte, pred[itest,:])\n",
    "        if print_score:\n",
    "            print(\"score {} is {:.5f}\".format(counter, err, end=' '))\n",
    "        errlist.append(err)\n",
    "\n",
    "    if print_score:\n",
    "        print(\"mean score is {:.5f}\".format(np.mean(errlist)))\n",
    "    return log_loss(y, pred), pred"
   ]
  },
  {
   "cell_type": "code",
   "execution_count": 114,
   "metadata": {
    "collapsed": false,
    "deletable": true,
    "editable": true,
    "scrolled": true
   },
   "outputs": [
    {
     "name": "stdout",
     "output_type": "stream",
     "text": [
      "score 1 is 0.69153\n",
      "score 2 is 0.69232\n",
      "score 3 is 0.69149\n",
      "score 4 is 0.69115\n",
      "score 5 is 0.69119\n",
      "mean score is 0.69154\n"
     ]
    }
   ],
   "source": [
    "selectP_value=85\n",
    "ch2=SelectPercentile(chi2, percentile=selectP_value)\n",
    "select_train=ch2.fit_transform(train_features, train_target)\n",
    "select_test=ch2.transform(test_features)\n",
    "\n",
    "# score1, pred=xgb_score(train_features, train_target)\n",
    "\n",
    "score1, pred=xgb_score(select_train, train_target)"
   ]
  },
  {
   "cell_type": "code",
   "execution_count": 144,
   "metadata": {
    "collapsed": true,
    "deletable": true,
    "editable": true
   },
   "outputs": [],
   "source": [
    "clf=LogisticRegression(C=0.5,solver='lbfgs')\n",
    "clf.fit(train_features, train_target)\n",
    "test_pred_proba= clf.predict_proba(test_features)\n",
    "test_pred_int=clf.predict(test_features)\n"
   ]
  },
  {
   "cell_type": "code",
   "execution_count": 103,
   "metadata": {
    "collapsed": false,
    "deletable": true,
    "editable": true
   },
   "outputs": [],
   "source": [
    "selectP_value=83\n",
    "ch2=SelectPercentile(chi2, percentile=selectP_value)\n",
    "select_train=ch2.fit_transform(train_features, train_target)\n",
    "select_test=ch2.transform(test_features)\n",
    "\n",
    "lgclf=LogisticRegression(C=0.5,solver='lbfgs')\n",
    "lgclf.fit(select_train, train_target)\n",
    "lg_pred_proba= lgclf.predict_proba(select_test)\n",
    "lg_pred_int=lgclf.predict(select_test)\n",
    "\n",
    "\n",
    "xgb_pred_proba=xgb_model(train_target, select_train, select_test, booster=\"gbtree\")\n",
    "\n",
    "pred=lg_pred_proba*0.5+xgb_pred_proba*0.5\n"
   ]
  },
  {
   "cell_type": "code",
   "execution_count": 102,
   "metadata": {
    "collapsed": false,
    "deletable": true,
    "editable": true
   },
   "outputs": [
    {
     "name": "stdout",
     "output_type": "stream",
     "text": [
      "1 0 [ 0.50243016  0.49756984] [ 0.49548233  0.50451767]\n",
      "1 0 [ 0.51564438  0.48435562] [ 0.50892568  0.49107429]\n",
      "1 1 [ 0.44398309  0.55601691] [ 0.46180329  0.53819674]\n",
      "1 0 [ 0.52195959  0.47804041] [ 0.50463426  0.49536577]\n",
      "0 0 [ 0.52208584  0.47791416] [ 0.4954831  0.5045169]\n",
      "1 1 [ 0.47288925  0.52711075] [ 0.46929744  0.53070259]\n",
      "1 1 [ 0.48454261  0.51545739] [ 0.49191871  0.50808126]\n",
      "0 1 [ 0.48417051  0.51582949] [ 0.47716671  0.52283329]\n",
      "0 1 [ 0.47029531  0.52970469] [ 0.48530513  0.51469487]\n",
      "0 1 [ 0.47902956  0.52097044] [ 0.49101412  0.50898588]\n"
     ]
    }
   ],
   "source": [
    "n=0\n",
    "for n in range(10):\n",
    "    print (train_target[n], lg_pred_int[n], lg_pred_proba[n], xgb_pred_proba[n])\n"
   ]
  },
  {
   "cell_type": "code",
   "execution_count": null,
   "metadata": {
    "collapsed": true,
    "deletable": true,
    "editable": true
   },
   "outputs": [],
   "source": []
  },
  {
   "cell_type": "code",
   "execution_count": 111,
   "metadata": {
    "collapsed": false,
    "deletable": true,
    "editable": true
   },
   "outputs": [],
   "source": [
    "submit_pred=submit.copy(deep=True)\n",
    "submit_pred['probability']=pred[:,1]\n",
    "\n",
    "submit_pred.to_csv('./submit_lg_xgb.csv', index=False)"
   ]
  },
  {
   "cell_type": "code",
   "execution_count": 113,
   "metadata": {
    "collapsed": false,
    "deletable": true,
    "editable": true
   },
   "outputs": [
    {
     "data": {
      "text/html": [
       "<div>\n",
       "<table border=\"1\" class=\"dataframe\">\n",
       "  <thead>\n",
       "    <tr style=\"text-align: right;\">\n",
       "      <th></th>\n",
       "      <th>t_id</th>\n",
       "      <th>probability</th>\n",
       "    </tr>\n",
       "  </thead>\n",
       "  <tbody>\n",
       "    <tr>\n",
       "      <th>0</th>\n",
       "      <td>7726</td>\n",
       "      <td>0.501</td>\n",
       "    </tr>\n",
       "    <tr>\n",
       "      <th>1</th>\n",
       "      <td>15876</td>\n",
       "      <td>0.488</td>\n",
       "    </tr>\n",
       "    <tr>\n",
       "      <th>2</th>\n",
       "      <td>22137</td>\n",
       "      <td>0.547</td>\n",
       "    </tr>\n",
       "    <tr>\n",
       "      <th>3</th>\n",
       "      <td>22770</td>\n",
       "      <td>0.487</td>\n",
       "    </tr>\n",
       "    <tr>\n",
       "      <th>4</th>\n",
       "      <td>33025</td>\n",
       "      <td>0.491</td>\n",
       "    </tr>\n",
       "  </tbody>\n",
       "</table>\n",
       "</div>"
      ],
      "text/plain": [
       "    t_id  probability\n",
       "0   7726        0.501\n",
       "1  15876        0.488\n",
       "2  22137        0.547\n",
       "3  22770        0.487\n",
       "4  33025        0.491"
      ]
     },
     "execution_count": 113,
     "metadata": {},
     "output_type": "execute_result"
    }
   ],
   "source": [
    "submit_pred.head(5)"
   ]
  },
  {
   "cell_type": "code",
   "execution_count": 112,
   "metadata": {
    "collapsed": false,
    "deletable": true,
    "editable": true
   },
   "outputs": [
    {
     "data": {
      "text/html": [
       "<div>\n",
       "<table border=\"1\" class=\"dataframe\">\n",
       "  <thead>\n",
       "    <tr style=\"text-align: right;\">\n",
       "      <th></th>\n",
       "      <th>t_id</th>\n",
       "      <th>probability</th>\n",
       "    </tr>\n",
       "  </thead>\n",
       "  <tbody>\n",
       "    <tr>\n",
       "      <th>0</th>\n",
       "      <td>7726</td>\n",
       "      <td>0.509</td>\n",
       "    </tr>\n",
       "    <tr>\n",
       "      <th>1</th>\n",
       "      <td>15876</td>\n",
       "      <td>0.510</td>\n",
       "    </tr>\n",
       "    <tr>\n",
       "      <th>2</th>\n",
       "      <td>22137</td>\n",
       "      <td>0.535</td>\n",
       "    </tr>\n",
       "    <tr>\n",
       "      <th>3</th>\n",
       "      <td>22770</td>\n",
       "      <td>0.493</td>\n",
       "    </tr>\n",
       "    <tr>\n",
       "      <th>4</th>\n",
       "      <td>33025</td>\n",
       "      <td>0.497</td>\n",
       "    </tr>\n",
       "  </tbody>\n",
       "</table>\n",
       "</div>"
      ],
      "text/plain": [
       "    t_id  probability\n",
       "0   7726        0.509\n",
       "1  15876        0.510\n",
       "2  22137        0.535\n",
       "3  22770        0.493\n",
       "4  33025        0.497"
      ]
     },
     "execution_count": 112,
     "metadata": {},
     "output_type": "execute_result"
    }
   ],
   "source": [
    "submit.head(5)"
   ]
  },
  {
   "cell_type": "code",
   "execution_count": 141,
   "metadata": {
    "collapsed": true,
    "deletable": true,
    "editable": true
   },
   "outputs": [],
   "source": []
  },
  {
   "cell_type": "code",
   "execution_count": 58,
   "metadata": {
    "collapsed": false,
    "deletable": true,
    "editable": true
   },
   "outputs": [
    {
     "name": "stderr",
     "output_type": "stream",
     "text": [
      "/home/yifan/playground/anaconda3/envs/snakes/lib/python3.5/site-packages/sklearn/feature_selection/univariate_selection.py:407: VisibleDeprecationWarning: using a non-integer number instead of an integer will result in an error in the future\n",
      "  kept_ties = ties[:max_feats - mask.sum()]\n"
     ]
    },
    {
     "name": "stdout",
     "output_type": "stream",
     "text": [
      "Score for 50.00 is 0.692066 \n",
      "Score for 55.56 is 0.692021 \n",
      "Score for 61.11 is 0.691991 \n",
      "Score for 66.67 is 0.691983 \n",
      "Score for 72.22 is 0.691985 \n",
      "Score for 77.78 is 0.691964 \n",
      "Score for 83.33 is 0.691940 \n",
      "Score for 88.89 is 0.691944 \n",
      "Score for 94.44 is 0.691946 \n",
      "Score for 100.00 is 0.691950 \n"
     ]
    },
    {
     "data": {
      "image/png": "[encoded data removed]",
      "text/plain": [
       "<matplotlib.figure.Figure at 0x7f48fbe85320>"
      ]
     },
     "metadata": {},
     "output_type": "display_data"
    }
   ],
   "source": [
    "Ps = np.linspace(50, 100, num=10)\n",
    "res=[]\n",
    "for P in Ps:\n",
    "    selectP_value=P\n",
    "    ch2=SelectPercentile(chi2, percentile=selectP_value)\n",
    "    select_train=ch2.fit_transform(train_features, train_target)\n",
    "    select_test=ch2.transform(test_features)\n",
    "    err=score(LogisticRegression(C=0.02, multi_class='multinomial',solver='lbfgs'), select_train, train_target)\n",
    "    print(\"Score for %.2f is %.6f \" %(P, err))\n",
    "    res.append(err)\n",
    "\n",
    "plt.semilogx(Ps, res,'-o');"
   ]
  },
  {
   "cell_type": "code",
   "execution_count": 38,
   "metadata": {
    "collapsed": false,
    "deletable": true,
    "editable": true
   },
   "outputs": [
    {
     "data": {
      "text/plain": [
       "0.6919495752793644"
      ]
     },
     "execution_count": 38,
     "metadata": {},
     "output_type": "execute_result"
    }
   ],
   "source": [
    "k_fold_score"
   ]
  },
  {
   "cell_type": "code",
   "execution_count": 56,
   "metadata": {
    "collapsed": false,
    "deletable": true,
    "editable": true
   },
   "outputs": [
    {
     "data": {
      "text/plain": [
       "array([  5.  ,   6.25,   7.5 ,   8.75,  10.  ])"
      ]
     },
     "execution_count": 56,
     "metadata": {},
     "output_type": "execute_result"
    }
   ],
   "source": [
    "np.linspace(5, 10, num=5)"
   ]
  },
  {
   "cell_type": "code",
   "execution_count": 31,
   "metadata": {
    "collapsed": false,
    "deletable": true,
    "editable": true
   },
   "outputs": [
    {
     "data": {
      "text/plain": [
       "(96320, 21)"
      ]
     },
     "execution_count": 31,
     "metadata": {},
     "output_type": "execute_result"
    }
   ],
   "source": [
    "train_features.shape"
   ]
  },
  {
   "cell_type": "code",
   "execution_count": 32,
   "metadata": {
    "collapsed": false,
    "deletable": true,
    "editable": true
   },
   "outputs": [
    {
     "data": {
      "text/plain": [
       "(96320,)"
      ]
     },
     "execution_count": 32,
     "metadata": {},
     "output_type": "execute_result"
    }
   ],
   "source": [
    "train_target.shape"
   ]
  }
 ],
 "metadata": {
  "kernelspec": {
   "display_name": "Python 3",
   "language": "python",
   "name": "python3"
  },
  "language_info": {
   "codemirror_mode": {
    "name": "ipython",
    "version": 3
   },
   "file_extension": ".py",
   "mimetype": "text/x-python",
   "name": "python",
   "nbconvert_exporter": "python",
   "pygments_lexer": "ipython3",
   "version": "3.6.0"
  }
 },
 "nbformat": 4,
 "nbformat_minor": 0
}
