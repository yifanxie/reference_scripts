{
 "cells": [
  {
   "cell_type": "code",
   "execution_count": 14,
   "metadata": {
    "collapsed": false
   },
   "outputs": [],
   "source": [
    "%matplotlib inline\n",
    "import sys\n",
    "sys.path.append(\"/media/yifan/Windows/Users/xie/Playground/Numerai/\")\n",
    "\n",
    "import numpy as np\n",
    "import pandas as pd\n",
    "import matplotlib.pyplot as plt\n",
    "import seaborn as sns\n",
    "import time\n",
    "import feather\n",
    "import gc\n",
    "import paratext\n",
    "import xgboost as xgb\n",
    "from IPython.display import display\n",
    "\n",
    "from sklearn.linear_model import LogisticRegression\n",
    "from sklearn.linear_model import RidgeClassifier\n",
    "\n",
    "from sklearn.ensemble import RandomForestClassifier\n",
    "from sklearn.naive_bayes import BernoulliNB\n",
    "from sklearn.cross_validation import StratifiedKFold\n",
    "from sklearn.metrics import log_loss\n",
    "from sklearn.feature_selection import SelectKBest\n",
    "from sklearn.feature_selection import SelectPercentile\n",
    "from sklearn.feature_selection import chi2\n",
    "from sklearn.preprocessing import MinMaxScaler\n",
    "from sklearn.neighbors import KNeighborsClassifier\n",
    "from sklearn.calibration import CalibratedClassifierCV\n",
    "from sklearn.svm import SVC as svc\n",
    "# from sklearn.svm import LinearSVC as svc\n",
    "from sklearn.linear_model import SGDClassifier as sgd\n",
    "from sklearn.cross_validation import train_test_split\n",
    "\n",
    "from bayes_opt import BayesianOptimization\n",
    "\n",
    "\n",
    "import warnings\n",
    "warnings.filterwarnings(\"ignore\",category=DeprecationWarning)\n",
    "pd.set_option('display.max_seq_items', 200)\n",
    "pd.set_option('max_rows', 200)\n",
    "pd.set_option('display.float_format', lambda x: '%.3f' % x)"
   ]
  },
  {
   "cell_type": "code",
   "execution_count": 2,
   "metadata": {
    "collapsed": false
   },
   "outputs": [],
   "source": [
    "train=pd.read_csv('./data/numerai_training_data.csv')\n",
    "test=pd.read_csv('./data/numerai_tournament_data.csv')\n",
    "submit=pd.read_csv('./data/example_predictions.csv')"
   ]
  },
  {
   "cell_type": "code",
   "execution_count": 38,
   "metadata": {
    "collapsed": false
   },
   "outputs": [],
   "source": [
    "def log_score(clf, train_data, y, test_data, random_state = 0, print_score=True, calibrated=False, \n",
    "          n_folds=5, oof_pred=False):\n",
    "    if calibrated:\n",
    "        clf=CalibratedClassifierCV(clf, method='isotonic', cv=5)\n",
    "    kf = StratifiedKFold(y, n_folds=n_folds, shuffle=True, random_state=random_state)\n",
    "    oof_train_pred = np.zeros((y.shape[0],2))\n",
    "    counter=0\n",
    "    errlist=[]\n",
    "\n",
    "#     oof_preds=[]\n",
    "    \n",
    "    for itrain, itest in kf:\n",
    "        counter+=1\n",
    "        Xtr, Xte = train_data[itrain, :], train_data[itest, :]\n",
    "        ytr, yte = y[itrain], y[itest]\n",
    "        clf.fit(Xtr, ytr)\n",
    "        oof_train_pred[itest,:] = clf.predict_proba(Xte)\n",
    "#         d= clf.decision_function(Xte)[0]\n",
    "#         probs=np.exp(d)/np.sum(np.exp(d))\n",
    "#         pred[itest,:] = probs\n",
    "        err=log_loss(yte, oof_train_pred[itest,:])\n",
    "        if print_score:\n",
    "            print(\"score {} is {:.5f}\".format(counter, err, end=' '))\n",
    "        errlist.append(err)\n",
    "        \n",
    "        if oof_pred:\n",
    "            test_pred=clf.predict_proba(test_data)\n",
    "            if counter==1:\n",
    "                oof_test_preds=test_pred/n_folds\n",
    "            else:\n",
    "                oof_test_preds=oof_test_preds+test_pred/n_folds\n",
    "            \n",
    "    if print_score:\n",
    "        print(\"mean score is {:.5f}\".format(np.mean(errlist)))\n",
    "    return log_loss(y, oof_train_pred), oof_train_pred, oof_test_preds"
   ]
  },
  {
   "cell_type": "code",
   "execution_count": 39,
   "metadata": {
    "collapsed": true
   },
   "outputs": [],
   "source": [
    "train_target=train['target'].as_matrix()\n",
    "\n",
    "train_features=train.drop(['target'], axis=1).as_matrix()\n",
    "test_features=test.drop(['t_id'], axis=1).as_matrix()\n",
    "train_features=np.sqrt(train_features+3/8)\n",
    "test_features=np.sqrt(test_features+3/8)"
   ]
  },
  {
   "cell_type": "code",
   "execution_count": 40,
   "metadata": {
    "collapsed": false
   },
   "outputs": [
    {
     "name": "stdout",
     "output_type": "stream",
     "text": [
      "score 1 is 0.69192\n",
      "score 2 is 0.69179\n",
      "score 3 is 0.69124\n",
      "score 4 is 0.69229\n",
      "score 5 is 0.69236\n",
      "score 6 is 0.69222\n",
      "score 7 is 0.69174\n",
      "score 8 is 0.69189\n",
      "score 9 is 0.69199\n",
      "score 10 is 0.69193\n",
      "mean score is 0.69194\n",
      "oof test score is 0.69158, single run score is 0.69158\n"
     ]
    }
   ],
   "source": [
    "selectP_value=83\n",
    "ch2=SelectPercentile(chi2, percentile=selectP_value)\n",
    "select_train=ch2.fit_transform(train_features, train_target)\n",
    "select_test=ch2.transform(test_features)\n",
    "\n",
    "\n",
    "rnd_state=np.random.RandomState(1234)\n",
    "for run in range(0, 1):\n",
    "    train_i, val_i = train_test_split(np.arange(train_features.shape[0]), train_size = 0.75, \n",
    "                                      random_state = rnd_state )\n",
    "    tr_train_features=train_features[train_i]\n",
    "    tr_val_features=train_features[val_i]\n",
    "    y_train=train_target[train_i]\n",
    "    y_val=train_target[val_i]\n",
    "    clf=xgb.XGBClassifier(max_depth=2, learning_rate=0.1, n_estimators=40, objective=\"binary:logistic\",\n",
    "                         subsample=1, colsample_bytree=0.5, seed=1234)\n",
    "#     clf=LogisticRegression(C=0.5,solver='liblinear')\n",
    "    score1, oof_train_preds, oof_test_preds=log_score(clf, tr_train_features, y_train, tr_val_features, \n",
    "                                                      random_state=0, n_folds=10, oof_pred=True)\n",
    "\n",
    "    \n",
    "    oof_test_score=log_loss(y_val, oof_test_preds)\n",
    "    \n",
    "    single_run_pred=clf.fit(tr_train_features, y_train).predict_proba(tr_val_features)\n",
    "    single_run_score=log_loss(y_val, single_run_pred)\n",
    "    \n",
    "    print('oof test score is {:.5f}, single run score is {:.5f}'.format(oof_test_score, single_run_score))\n"
   ]
  },
  {
   "cell_type": "code",
   "execution_count": 44,
   "metadata": {
    "collapsed": false
   },
   "outputs": [
    {
     "data": {
      "text/plain": [
       "(24080, 2)"
      ]
     },
     "execution_count": 44,
     "metadata": {},
     "output_type": "execute_result"
    }
   ],
   "source": [
    "oof_test_preds.shape\n"
   ]
  },
  {
   "cell_type": "code",
   "execution_count": 46,
   "metadata": {
    "collapsed": false
   },
   "outputs": [
    {
     "data": {
      "text/plain": [
       "(24080, 2)"
      ]
     },
     "execution_count": 46,
     "metadata": {},
     "output_type": "execute_result"
    }
   ],
   "source": [
    "single_run_pred.shape"
   ]
  },
  {
   "cell_type": "code",
   "execution_count": 92,
   "metadata": {
    "collapsed": false
   },
   "outputs": [
    {
     "name": "stdout",
     "output_type": "stream",
     "text": [
      "score 1 is 0.69129\n",
      "score 2 is 0.69251\n",
      "score 3 is 0.69162\n",
      "score 4 is 0.69113\n",
      "score 5 is 0.69125\n",
      "mean score is 0.69156\n"
     ]
    }
   ],
   "source": [
    "selectP_value=83\n",
    "ch2=SelectPercentile(chi2, percentile=selectP_value)\n",
    "select_train=ch2.fit_transform(train_features, train_target)\n",
    "select_test=ch2.transform(test_features)\n",
    "\n",
    "\n",
    "\n",
    "# clf=xgb.XGBClassifier(max_depth=2, learning_rate=0.1, n_estimators=40, objective=\"binary:logistic\",\n",
    "#                      subsample=1, colsample_bytree=0.5, seed=1234)\n",
    "clf=LogisticRegression(C=0.5,solver='liblinear')\n",
    "score1, oof_train_preds, oof_test_preds=log_score(clf, select_train, train_target, select_test, \n",
    "                                                  random_state=0, n_folds=5, oof_pred=True)\n"
   ]
  },
  {
   "cell_type": "code",
   "execution_count": 57,
   "metadata": {
    "collapsed": false
   },
   "outputs": [
    {
     "data": {
      "text/plain": [
       "(36066, 2)"
      ]
     },
     "execution_count": 57,
     "metadata": {},
     "output_type": "execute_result"
    }
   ],
   "source": [
    "oof_test_preds.shape"
   ]
  },
  {
   "cell_type": "code",
   "execution_count": 57,
   "metadata": {
    "collapsed": false
   },
   "outputs": [
    {
     "data": {
      "text/plain": [
       "0.69130250902271295"
      ]
     },
     "execution_count": 57,
     "metadata": {},
     "output_type": "execute_result"
    }
   ],
   "source": [
    "single_run_score"
   ]
  },
  {
   "cell_type": "code",
   "execution_count": 17,
   "metadata": {
    "collapsed": false
   },
   "outputs": [
    {
     "name": "stdout",
     "output_type": "stream",
     "text": [
      "score 1 is 0.69129\n",
      "score 2 is 0.69251\n",
      "score 3 is 0.69162\n",
      "score 4 is 0.69113\n",
      "score 5 is 0.69125\n",
      "mean score is 0.69156\n"
     ]
    }
   ],
   "source": [
    "start_time=time.time()\n",
    "# model_type=\"xgb\"\n",
    "# model=model_spec(model_type)\n",
    "\n",
    "# scaler=MinMaxScaler().fit(train_features)\n",
    "# train_features=scaler.transform(train_features)\n",
    "# test_features=scaler.transform(test_features)\n",
    "\n",
    "selectP_value=83\n",
    "ch2=SelectPercentile(chi2, percentile=selectP_value)\n",
    "select_train=ch2.fit_transform(train_features, train_target)\n",
    "select_test=ch2.transform(test_features)\n",
    "\n",
    "# select_train=np.sqrt(select_train+3/8)\n",
    "# select_test=np.sqrt(select_test+3/8)\n",
    "\n",
    "\n",
    "clf=LogisticRegression(C=0.5,solver='liblinear')\n",
    "# clf=sgd(loss='log')\n",
    "# clf=svc(kernel='linear')\n",
    "# clf=RidgeClassifier()\n",
    "\n",
    "# clf=RandomForestClassifier(n_estimators=50)\n",
    "# clf1=LogisticRegression(C=0.5, multi_class='multinomial',solver='lbfgs')\n",
    "# clf=BernoulliNB()\n",
    "# clf=xgb.XGBClassifier()\n",
    "# clf=xgb.XGBClassifier(max_depth=2, learning_rate=0.1, n_estimators=40, objective=\"binary:logistic\",\n",
    "#                      subsample=1, colsample_bytree=0.5, seed=1234)\n",
    "\n",
    "# clf=xgb.XGBRegressor(max_depth=5, learning_rate=0.1, n_estimators=50,\n",
    "#                      subsample=0.8, colsample_bytree=1, seed=1234)\n",
    "\n",
    "\n",
    "\n",
    "score1, pred1, oof_preds=log_score(clf, select_train, train_target, select_test,calibrated=False, \n",
    "                    random_state=0, n_folds=5, oof_pred=True)\n"
   ]
  },
  {
   "cell_type": "code",
   "execution_count": 87,
   "metadata": {
    "collapsed": true
   },
   "outputs": [],
   "source": [
    "selectP_value=83\n",
    "ch2=SelectPercentile(chi2, percentile=selectP_value)\n",
    "select_train=ch2.fit_transform(train_features, train_target)\n",
    "select_test=ch2.transform(test_features)\n",
    "\n",
    "# clf=LogisticRegression(C=0.5,solver='liblinear')\n",
    "clf=LogisticRegression(C=0.02,solver='lbfgs')\n",
    "clf.fit(select_train, train_target)\n",
    "test_pred_proba= clf.predict_proba(select_test)\n",
    "test_pred_int=clf.predict(select_test)\n",
    "\n",
    "\n",
    "# clf2=LogisticRegression(C=0.5,solver='liblinear')\n",
    "# clf2.fit(select_train, train_target)\n",
    "# test_pred_proba2= clf2.predict_proba(select_test)\n",
    "# test_pred_int2=clf2.predict(select_test)\n",
    "\n",
    "# clf3=clf=xgb.XGBClassifier(max_depth=2, learning_rate=0.1, n_estimators=40, objective=\"binary:logistic\",\n",
    "#                      subsample=1, colsample_bytree=0.5, seed=1500)\n",
    "# clf3.fit(select_train, train_target)\n",
    "# test_pred_proba= clf3.predict_proba(select_test)\n",
    "# test_pred_int=clf3.predict(select_test)\n",
    "\n",
    "\n",
    "# test_pred_proba= (test_pred_proba1+test_pred_proba2)/2"
   ]
  },
  {
   "cell_type": "code",
   "execution_count": 88,
   "metadata": {
    "collapsed": false
   },
   "outputs": [],
   "source": [
    "submit_pred=submit.copy(deep=True)\n",
    "submit_pred['probability']=test_pred_proba[:,1]\n",
    "\n",
    "submit_pred.to_csv('./submit_lg_lbfgs.csv', index=False)"
   ]
  },
  {
   "cell_type": "markdown",
   "metadata": {},
   "source": [
    "### random seedsx100 xgb"
   ]
  },
  {
   "cell_type": "code",
   "execution_count": 90,
   "metadata": {
    "collapsed": false
   },
   "outputs": [
    {
     "name": "stdout",
     "output_type": "stream",
     "text": [
      "1000\n",
      "1020\n",
      "1040\n",
      "1060\n",
      "1080\n"
     ]
    }
   ],
   "source": [
    "# selectP_value=83\n",
    "# ch2=SelectPercentile(chi2, percentile=selectP_value)\n",
    "# select_train=ch2.fit_transform(train_features, train_target)\n",
    "# select_test=ch2.transform(test_features)\n",
    "\n",
    "# clf=LogisticRegression(C=0.5,solver='liblinear')\n",
    "# clf=LogisticRegression(C=0.02,solver='lbfgs')\n",
    "# clf.fit(select_train, train_target)\n",
    "# test_pred_proba1= clf.predict_proba(select_test)\n",
    "# test_pred_int1=clf.predict(select_test)\n",
    "\n",
    "\n",
    "# clf2=LogisticRegression(C=0.5,solver='liblinear')\n",
    "# clf2.fit(select_train, train_target)\n",
    "# test_pred_proba2= clf2.predict_proba(select_test)\n",
    "# test_pred_int2=clf2.predict(select_test)\n",
    "\n",
    "for n in range(1000,1100):\n",
    "    \n",
    "    if n%20==0: print(n)\n",
    "    clf=xgb.XGBClassifier(max_depth=2, learning_rate=0.1, n_estimators=40, objective=\"binary:logistic\",\n",
    "                         subsample=1, colsample_bytree=0.5, seed=n)\n",
    "    clf.fit(select_train, train_target)\n",
    "    test_pred_proba= clf.predict_proba(select_test)\n",
    "\n",
    "    if n==1000:\n",
    "        total=test_pred_proba/100\n",
    "    else:\n",
    "        total=total+test_pred_proba/100\n",
    "    # test_pred_int=clf3.predict(select_test)\n",
    "\n",
    "\n",
    "# test_pred_proba= (test_pred_proba1+test_pred_proba2)/2"
   ]
  },
  {
   "cell_type": "code",
   "execution_count": 91,
   "metadata": {
    "collapsed": false
   },
   "outputs": [],
   "source": [
    "submit_pred=submit.copy(deep=True)\n",
    "submit_pred['probability']=total[:,1]\n",
    "\n",
    "submit_pred.to_csv('./submit_xgb_total100_nose.csv', index=False)"
   ]
  },
  {
   "cell_type": "code",
   "execution_count": 89,
   "metadata": {
    "collapsed": true
   },
   "outputs": [],
   "source": [
    "submit_pred=submit.copy(deep=True)\n",
    "submit_pred['probability']=(total[:,1]+test_pred_proba[:,1])/2\n",
    "\n",
    "submit_pred.to_csv('./submit_xgb_lg２.csv', index=False)"
   ]
  },
  {
   "cell_type": "code",
   "execution_count": 72,
   "metadata": {
    "collapsed": false
   },
   "outputs": [
    {
     "name": "stdout",
     "output_type": "stream",
     "text": [
      "0\n",
      "1\n",
      "2\n"
     ]
    }
   ],
   "source": [
    "for n in range(0,3):\n",
    "    print(n)"
   ]
  },
  {
   "cell_type": "code",
   "execution_count": 67,
   "metadata": {
    "collapsed": false
   },
   "outputs": [
    {
     "data": {
      "text/plain": [
       "array([[ 0.50843602,  0.49156398],\n",
       "       [ 0.50927103,  0.490729  ],\n",
       "       [ 0.47004002,  0.52995998],\n",
       "       ..., \n",
       "       [ 0.50848806,  0.49151191],\n",
       "       [ 0.47891986,  0.52108014],\n",
       "       [ 0.4901318 ,  0.5098682 ]], dtype=float32)"
      ]
     },
     "execution_count": 67,
     "metadata": {},
     "output_type": "execute_result"
    }
   ],
   "source": [
    "test_pred_proba"
   ]
  },
  {
   "cell_type": "code",
   "execution_count": 59,
   "metadata": {
    "collapsed": false
   },
   "outputs": [],
   "source": [
    "# oof_preds[0:10]\n",
    "submit_pred=submit.copy(deep=True)\n",
    "submit_pred['probability']=oof_test_preds[:,1]\n",
    "\n",
    "submit_pred.to_csv('./submit_temp.csv', index=False)\n"
   ]
  },
  {
   "cell_type": "code",
   "execution_count": 51,
   "metadata": {
    "collapsed": false
   },
   "outputs": [
    {
     "data": {
      "text/plain": [
       "array([[ 0.4933762 ,  0.5066238 ],\n",
       "       [ 0.5084219 ,  0.49157813],\n",
       "       [ 0.46304178,  0.53695822],\n",
       "       ..., \n",
       "       [ 0.50387979,  0.49612021],\n",
       "       [ 0.48813456,  0.51186544],\n",
       "       [ 0.48749042,  0.51250958]], dtype=float32)"
      ]
     },
     "execution_count": 51,
     "metadata": {},
     "output_type": "execute_result"
    }
   ],
   "source": [
    "test_pred_proba"
   ]
  },
  {
   "cell_type": "code",
   "execution_count": 58,
   "metadata": {
    "collapsed": false
   },
   "outputs": [
    {
     "data": {
      "text/plain": [
       "array([[ 0.50247519,  0.49752481],\n",
       "       [ 0.51532089,  0.48467911],\n",
       "       [ 0.44468836,  0.55531164],\n",
       "       ..., \n",
       "       [ 0.48737829,  0.51262171],\n",
       "       [ 0.45682258,  0.54317742],\n",
       "       [ 0.48258946,  0.51741054]])"
      ]
     },
     "execution_count": 58,
     "metadata": {},
     "output_type": "execute_result"
    }
   ],
   "source": [
    "oof_test_preds"
   ]
  },
  {
   "cell_type": "code",
   "execution_count": 30,
   "metadata": {
    "collapsed": false
   },
   "outputs": [
    {
     "data": {
      "text/plain": [
       "array([[ 0.50102102,  0.49897898],\n",
       "       [ 0.51135697,  0.48864303],\n",
       "       [ 0.45088753,  0.54911247],\n",
       "       ..., \n",
       "       [ 0.49144889,  0.50855111],\n",
       "       [ 0.46244257,  0.53755743],\n",
       "       [ 0.47874819,  0.52125181]])"
      ]
     },
     "execution_count": 30,
     "metadata": {},
     "output_type": "execute_result"
    }
   ],
   "source": [
    "test_pred_proba2"
   ]
  },
  {
   "cell_type": "code",
   "execution_count": 217,
   "metadata": {
    "collapsed": false
   },
   "outputs": [],
   "source": [
    "submit_pred=submit.copy(deep=True)\n",
    "submit_pred['probability']=test_pred_proba[:,1]\n",
    "\n",
    "submit_pred.to_csv('./submit_selectP83_anscombe.csv', index=False)"
   ]
  },
  {
   "cell_type": "code",
   "execution_count": 218,
   "metadata": {
    "collapsed": false
   },
   "outputs": [
    {
     "data": {
      "text/html": [
       "<div>\n",
       "<table border=\"1\" class=\"dataframe\">\n",
       "  <thead>\n",
       "    <tr style=\"text-align: right;\">\n",
       "      <th></th>\n",
       "      <th>t_id</th>\n",
       "      <th>probability</th>\n",
       "    </tr>\n",
       "  </thead>\n",
       "  <tbody>\n",
       "    <tr>\n",
       "      <th>0</th>\n",
       "      <td>7726</td>\n",
       "      <td>0.499</td>\n",
       "    </tr>\n",
       "    <tr>\n",
       "      <th>1</th>\n",
       "      <td>15876</td>\n",
       "      <td>0.489</td>\n",
       "    </tr>\n",
       "    <tr>\n",
       "      <th>2</th>\n",
       "      <td>22137</td>\n",
       "      <td>0.549</td>\n",
       "    </tr>\n",
       "    <tr>\n",
       "      <th>3</th>\n",
       "      <td>22770</td>\n",
       "      <td>0.483</td>\n",
       "    </tr>\n",
       "    <tr>\n",
       "      <th>4</th>\n",
       "      <td>33025</td>\n",
       "      <td>0.483</td>\n",
       "    </tr>\n",
       "  </tbody>\n",
       "</table>\n",
       "</div>"
      ],
      "text/plain": [
       "    t_id  probability\n",
       "0   7726        0.499\n",
       "1  15876        0.489\n",
       "2  22137        0.549\n",
       "3  22770        0.483\n",
       "4  33025        0.483"
      ]
     },
     "execution_count": 218,
     "metadata": {},
     "output_type": "execute_result"
    }
   ],
   "source": [
    "submit_pred.head(5)"
   ]
  },
  {
   "cell_type": "code",
   "execution_count": 141,
   "metadata": {
    "collapsed": true
   },
   "outputs": [],
   "source": []
  },
  {
   "cell_type": "code",
   "execution_count": 172,
   "metadata": {
    "collapsed": false
   },
   "outputs": [
    {
     "name": "stderr",
     "output_type": "stream",
     "text": [
      "/home/yifan/playground/anaconda3/envs/snakes/lib/python3.5/site-packages/sklearn/feature_selection/univariate_selection.py:407: VisibleDeprecationWarning: using a non-integer number instead of an integer will result in an error in the future\n",
      "  kept_ties = ties[:max_feats - mask.sum()]\n"
     ]
    },
    {
     "name": "stdout",
     "output_type": "stream",
     "text": [
      "Score for 50.00 is 0.691698 \n",
      "Score for 55.56 is 0.691659 \n",
      "Score for 61.11 is 0.691624 \n",
      "Score for 66.67 is 0.691627 \n",
      "Score for 72.22 is 0.691623 \n",
      "Score for 77.78 is 0.691593 \n",
      "Score for 83.33 is 0.691572 \n",
      "Score for 88.89 is 0.691579 \n",
      "Score for 94.44 is 0.691582 \n",
      "Score for 100.00 is 0.691590 \n"
     ]
    },
    {
     "data": {
      "image/png": "[encoded data removed]",
      "text/plain": [
       "<matplotlib.figure.Figure at 0x7f48fbe93630>"
      ]
     },
     "metadata": {},
     "output_type": "display_data"
    }
   ],
   "source": [
    "Ps = np.linspace(50, 100, num=10)\n",
    "res=[]\n",
    "for P in Ps:\n",
    "    selectP_value=P\n",
    "    ch2=SelectPercentile(chi2, percentile=selectP_value)\n",
    "    select_train=ch2.fit_transform(train_features, train_target)\n",
    "    select_test=ch2.transform(test_features)\n",
    "    err=score(LogisticRegression(C=0.02,solver='lbfgs'), select_train, train_target, print_score=False)[0]\n",
    "    print(\"Score for %.2f is %.6f \" %(P, err))\n",
    "    res.append(err)\n",
    "\n",
    "plt.semilogx(Ps, res,'-o');"
   ]
  }
 ],
 "metadata": {
  "kernelspec": {
   "display_name": "Python 3",
   "language": "python",
   "name": "python3"
  },
  "language_info": {
   "codemirror_mode": {
    "name": "ipython",
    "version": 3
   },
   "file_extension": ".py",
   "mimetype": "text/x-python",
   "name": "python",
   "nbconvert_exporter": "python",
   "pygments_lexer": "ipython3",
   "version": "3.5.2"
  }
 },
 "nbformat": 4,
 "nbformat_minor": 0
}
